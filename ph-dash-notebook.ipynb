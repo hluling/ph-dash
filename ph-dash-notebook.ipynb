{
 "cells": [
  {
   "cell_type": "markdown",
   "metadata": {
    "id": "IbJr4GycNaPw"
   },
   "source": [
    "# Creating a Dashboard for Interactive Data Visualization with Dash in Python\n",
    "Use this notebook for testing specific lines of code\n",
    "\n",
    "Refer to [the lesson](https://github.com/hluling/ph-dash/blob/master/creating-interactive-dashboard-with-python.md)"
   ]
  },
  {
   "cell_type": "markdown",
   "metadata": {
    "id": "rYoXTNPqrBSP"
   },
   "source": [
    "## Coding the Dashboard"
   ]
  },
  {
   "cell_type": "code",
   "execution_count": null,
   "metadata": {},
   "outputs": [],
   "source": [
    "# maybe need to upgrade the dash library\n",
    "#!pip install dash --upgrade"
   ]
  },
  {
   "cell_type": "markdown",
   "metadata": {
    "id": "EhVkee45rQD4"
   },
   "source": [
    "### Import Libraries"
   ]
  },
  {
   "cell_type": "code",
   "execution_count": null,
   "metadata": {
    "id": "RBB2W02wQDUA"
   },
   "outputs": [],
   "source": [
    "import datetime\n",
    "import requests\n",
    "import pandas as pd\n",
    "from io import StringIO\n",
    "from datetime import date\n",
    "import dash\n",
    "from jupyter_dash import JupyterDash\n",
    "from dash import dcc\n",
    "from dash import html\n",
    "from dash.dependencies import Input, Output\n",
    "import dash_bootstrap_components as dbc\n",
    "import plotly.express as px"
   ]
  },
  {
   "cell_type": "markdown",
   "metadata": {
    "id": "O81T4OidrT-h"
   },
   "source": [
    "### Retrieve Data Using API"
   ]
  },
  {
   "cell_type": "code",
   "execution_count": null,
   "metadata": {
    "id": "m9jav932QDKm"
   },
   "outputs": [],
   "source": [
    "today = date.today()\n",
    "today_str = today.strftime(\"%Y%m%d\")\n",
    "start_day = today - datetime.timedelta(365)\n",
    "start_day_str = start_day.strftime(\"%Y%m%d\")"
   ]
  },
  {
   "cell_type": "markdown",
   "metadata": {
    "id": "P4zhn4XHuVVP"
   },
   "source": [
    "Code explanation: We first define a range of dates for the complete dataset we want to retrieve using the API. The goal here is to create two string objects: `today_str` and `start_day_str`. Note that here we restrict the range to be 60 days for demonstration purpose only.\n",
    "\n"
   ]
  },
  {
   "cell_type": "code",
   "execution_count": null,
   "metadata": {
    "id": "bpMboAFYv1Ey"
   },
   "outputs": [],
   "source": [
    "query_url_ukr = f\"https://api.gdeltproject.org/api/v2/tv/tv?query=(ukraine%20OR%20ukrainian%20OR%20zelenskyy%20OR%20zelensky%20OR%20kiev)%20market:%22National%22&mode=timelinevol&format=html&datanorm=perc&format=csv&timelinesmooth=5&datacomb=sep&timezoom=yes&STARTDATETIME={start_day_str}120000&ENDDATETIME={today_str}120000\""
   ]
  },
  {
   "cell_type": "code",
   "execution_count": null,
   "metadata": {
    "id": "s2YIkQKQv1E3"
   },
   "outputs": [],
   "source": [
    "query_url_rus = f\"https://api.gdeltproject.org/api/v2/tv/tv?query=(kremlin%20OR%20russia%20OR%20putin%20OR%20moscow%20OR%20russian)%20market:%22National%22&mode=timelinevol&format=html&datanorm=perc&format=csv&timelinesmooth=5&datacomb=sep&timezoom=yes&STARTDATETIME={start_day_str}120000&ENDDATETIME={today_str}120000\""
   ]
  },
  {
   "cell_type": "markdown",
   "metadata": {
    "id": "1npBOgbEv409"
   },
   "source": [
    "Code explanation: We create two string objects for query: one for Ukraine-related terms and one for Russia-related terms. The parameters to be specified include keywords, geographic market, output mode, output format, range of dates, etc. See [this documentation](https://blog.gdeltproject.org/gdelt-2-0-television-api-debuts/) for a complete description of query parameters. "
   ]
  },
  {
   "cell_type": "code",
   "execution_count": null,
   "metadata": {
    "id": "I-5TnQJkyuIW"
   },
   "outputs": [],
   "source": [
    "def to_df(queryurl):\n",
    "  response = requests.get(queryurl)\n",
    "  content_text = StringIO(response.content.decode('utf-8'))\n",
    "  df = pd.read_csv(content_text)\n",
    "  return df"
   ]
  },
  {
   "cell_type": "markdown",
   "metadata": {
    "id": "qRxIHn2py1Zz"
   },
   "source": [
    "Code explanation: Now we use the `requests` library to execute the queries and transform the query results into a `pandas` dataframe. To do this, we create a function called `to_df()` to streamline the workflow."
   ]
  },
  {
   "cell_type": "code",
   "execution_count": null,
   "metadata": {
    "id": "2VbbFilTv1E3"
   },
   "outputs": [],
   "source": [
    "df_ukr = to_df(query_url_ukr)"
   ]
  },
  {
   "cell_type": "code",
   "execution_count": null,
   "metadata": {
    "id": "l5J65PMov1E3"
   },
   "outputs": [],
   "source": [
    "df_rus = to_df(query_url_rus)"
   ]
  },
  {
   "cell_type": "code",
   "execution_count": null,
   "metadata": {
    "colab": {
     "base_uri": "https://localhost:8080/",
     "height": 206
    },
    "id": "xb8M76LJzhXk",
    "outputId": "eec4dda9-0621-4d30-db94-a7f3eb302820"
   },
   "outputs": [],
   "source": [
    "# Take a look at the retrieved dataframe\n",
    "df_ukr.head()"
   ]
  },
  {
   "cell_type": "markdown",
   "metadata": {
    "id": "xPm_prsczqyo"
   },
   "source": [
    "So now we have two dataframes: one for Ukraine and one for Russia. In either, there are three columns: date, station, and relative frequency of keyword mentions (from left to right).\n",
    "\n"
   ]
  },
  {
   "cell_type": "markdown",
   "metadata": {
    "id": "lYfDFqyp0QJu"
   },
   "source": [
    "### Clean Data for Further Use"
   ]
  },
  {
   "cell_type": "code",
   "execution_count": null,
   "metadata": {
    "id": "6HC5oLF2v1E3"
   },
   "outputs": [],
   "source": [
    "# Rename the first column to something shorter for convenience\n",
    "df_ukr = df_ukr.rename(columns={df_ukr.columns[0]: \"date_col\"})\n",
    "df_rus = df_rus.rename(columns={df_rus.columns[0]: \"date_col\"})"
   ]
  },
  {
   "cell_type": "code",
   "execution_count": null,
   "metadata": {
    "id": "eKuH6_lbv1E3"
   },
   "outputs": [],
   "source": [
    "# Transform the first column to the datetime format\n",
    "df_ukr['date_col'] = pd.to_datetime(df_ukr['date_col'])\n",
    "df_rus['date_col'] = pd.to_datetime(df_rus['date_col'])"
   ]
  },
  {
   "cell_type": "code",
   "execution_count": null,
   "metadata": {
    "id": "c2IPp3rLv1E4"
   },
   "outputs": [],
   "source": [
    "# Select three stations for comparison\n",
    "# CNN: Presumed to represent an ideological middle ground\n",
    "# FOXNEWS: Presumed to represent the ideological conservative\n",
    "# MSNBC: Presumed to represent the ideological liberal\n",
    "df_rus = df_rus[[x in ['CNN', 'FOXNEWS', 'MSNBC'] for x in df_rus.Series]]\n",
    "df_ukr = df_ukr[[x in ['CNN', 'FOXNEWS', 'MSNBC'] for x in df_ukr.Series]]"
   ]
  },
  {
   "cell_type": "markdown",
   "metadata": {
    "id": "oDjUDl6DvWTf"
   },
   "source": [
    "### Initiate a Dashboard Instance\n",
    "\n"
   ]
  },
  {
   "cell_type": "code",
   "execution_count": null,
   "metadata": {
    "id": "-4iYibplvWb3"
   },
   "outputs": [],
   "source": [
    "app = JupyterDash(__name__, external_stylesheets=[dbc.themes.LITERA]) # for here use JupyterDash in a Jupyter environment\n",
    "server = app.server"
   ]
  },
  {
   "cell_type": "markdown",
   "metadata": {
    "id": "0xhsGUXdvWiq"
   },
   "source": [
    "Code explanation: This is just the formalities of creating a dashboard. To use a template that controls how our dashboard will look, we use the LITERA theme from [Dash Bootstrap Components](https://dash-bootstrap-components.opensource.faculty.ai/)(`dbc`). You can choose any theme you prefer from [this list](https://dash-bootstrap-components.opensource.faculty.ai/docs/themes/).  "
   ]
  },
  {
   "cell_type": "markdown",
   "metadata": {
    "id": "C4f5HJHXvWzf"
   },
   "source": [
    "### Coding the Frontend"
   ]
  },
  {
   "cell_type": "code",
   "execution_count": null,
   "metadata": {
    "id": "JJhCgd_PvWsA"
   },
   "outputs": [],
   "source": [
    "app.layout = dbc.Container(\n",
    "    [   dbc.Row([ # row 1\n",
    "        dbc.Col([html.H1('US National Television News Coverage of the War in Ukraine')],\n",
    "        className=\"text-center mt-3 mb-1\")\n",
    "    ]\n",
    "    ),\n",
    "        dbc.Row([ # row 2\n",
    "            dbc.Label(\"Select a date range:\", className=\"fw-bold\")\n",
    "    ]),\n",
    "    \n",
    "     dbc.Row([ # row 3\n",
    "              dcc.DatePickerRange(\n",
    "                id='date-range',\n",
    "                min_date_allowed=df_ukr['date_col'].min().date(),\n",
    "                max_date_allowed=df_ukr['date_col'].max().date(),\n",
    "                initial_visible_month=df_ukr['date_col'].min().date(),\n",
    "                start_date=df_ukr['date_col'].min().date(),\n",
    "                end_date=df_ukr['date_col'].max().date()\n",
    "              )\n",
    "    ]),\n",
    "\n",
    "     dbc.Row([ # row 4\n",
    "              dbc.Col(dcc.Graph(id='line-graph-ukr'), \n",
    "                      )\n",
    "     ]),\n",
    "\n",
    "    dbc.Row([ # row 5\n",
    "              dbc.Col(dcc.Graph(id='line-graph-rus'), \n",
    "                      )\n",
    "     ])\n",
    "\n",
    "    ])"
   ]
  },
  {
   "cell_type": "markdown",
   "metadata": {
    "id": "q0kG7yOZOw2k"
   },
   "source": [
    "Code explanation: Here, we need to think about the dashboard layout as a grid with rows and columns. In our dashboard, we have five rows from top to bottom: title, instruction text for the date-range selector, data-range selector, the first line graph, and the second line graph. If you want to add columns within a row, you can easily do so by nesting two `dbc.Col` components under the same `dbc.Row` component. Below is an example of placing the two line graphs side by side on the same row:"
   ]
  },
  {
   "cell_type": "code",
   "execution_count": null,
   "metadata": {
    "colab": {
     "base_uri": "https://localhost:8080/"
    },
    "id": "ixowlCrcP5fQ",
    "outputId": "a5769533-33a3-407e-b9fe-175889b33ed4"
   },
   "outputs": [],
   "source": [
    "dbc.Row([\n",
    "          dbc.Col(dcc.Graph(id='line-graph-ukr'), \n",
    "                  ),\n",
    "          dbc.Col(dcc.Graph(id='line-graph-rus'), \n",
    "                  )\n",
    "  ])"
   ]
  },
  {
   "cell_type": "markdown",
   "metadata": {
    "id": "E2n-twuZVu5I"
   },
   "source": [
    "Also important to note in the frontend code above is that we explicitly give names to those components that are involved in user interaction. In our case, we have three such components: the data-range selector as input and the two line graphs as output (i.e., reacting to any update in the date-range selector triggered by a user). The names of these components are created using the `id` parameter. These names are very important when we code the backend."
   ]
  },
  {
   "cell_type": "markdown",
   "metadata": {
    "id": "2g9sHVW5UIJb"
   },
   "source": [
    "### Coding the Backend"
   ]
  },
  {
   "cell_type": "code",
   "execution_count": null,
   "metadata": {
    "id": "ZD0qsQyHQG0n"
   },
   "outputs": [],
   "source": [
    "# callback decorator\n",
    "@app.callback(\n",
    "    Output('line-graph-ukr', 'figure'),\n",
    "    Output('line-graph-rus', 'figure'),\n",
    "    Input('date-range', 'start_date'),\n",
    "    Input('date-range', 'end_date')   \n",
    ")\n",
    "\n",
    "# callback function\n",
    "def update_output(start_date, end_date):\n",
    "    # filter dataframes based on updated data range\n",
    "    mask_ukr = (df_ukr['date_col'] >= start_date) & (df_ukr['date_col'] <= end_date)\n",
    "    mask_rus = (df_rus['date_col'] >= start_date) & (df_rus['date_col'] <= end_date)\n",
    "    df_ukr_filtered = df_ukr.loc[mask_ukr]\n",
    "    df_rus_filtered = df_rus.loc[mask_rus]\n",
    "    \n",
    "    # create line graphs based on filtered dataframes\n",
    "    line_fig_ukr = px.line(df_ukr_filtered, x=\"date_col\", y=\"Value\", \n",
    "                     color='Series', title=\"Coverage of Ukranian Keywords\")\n",
    "    line_fig_rus = px.line(df_rus_filtered, x='date_col', y='Value', \n",
    "                     color='Series', title=\"Coverage of Russian Keywords\")\n",
    "\n",
    "    # set x-axis title and y-axis title in line graphs \n",
    "    line_fig_ukr.update_layout(\n",
    "                   xaxis_title='Date',\n",
    "                   yaxis_title='Percentage of Airtime')\n",
    "    line_fig_rus.update_layout(\n",
    "                   xaxis_title='Date',\n",
    "                   yaxis_title='Percentage of Airtime')\n",
    "    \n",
    "    # set label format on y-axis in line graphs \n",
    "    line_fig_ukr.update_xaxes(tickformat=\"%b %d<br>%Y\")\n",
    "    line_fig_rus.update_xaxes(tickformat=\"%b %d<br>%Y\")\n",
    "    \n",
    "    return line_fig_ukr, line_fig_rus"
   ]
  },
  {
   "cell_type": "markdown",
   "metadata": {
    "id": "sglD9KqqUNKl"
   },
   "source": [
    "Code explanation: In the backend, the core concepts are *callback decorator* and *callback function*. In the above code, `@app.callback`, the callback decorator, defines which output variables and input variables are included in a user interaction. For example, remember that when we code the frontend, we name the line graph for Ukraine as 'line-graph-ukr'. Now we refer this name in one of our Output variable. The parameter 'figure' specifies which property of the referred component is updated when needed.<br>\n",
    "\n",
    "The callback function, `update_output()`, defines how the interaction occurs: The two line graphs are updated whenever the start date or the end date in the date-range selector is changed by a user. This is called *reactive programming*, similar to [the server logic used in R Shiny](https://programminghistorian.org/en/lessons/shiny-leaflet-newspaper-map-tutorial#shiny-and-reactive-programming). More detailed explanations are provided as comments in the above code. Note that the two returned objects (`line_fig_ukr` and `line_fig_rus`) should be ordered in the same way as how the output variables are ordered in the callback decorator (i.e., Ukraine's line graph goes first)."
   ]
  },
  {
   "cell_type": "markdown",
   "metadata": {
    "id": "pIIVNR-Gsqn3"
   },
   "source": [
    "### Testing the Dashboard"
   ]
  },
  {
   "cell_type": "code",
   "execution_count": null,
   "metadata": {
    "colab": {
     "base_uri": "https://localhost:8080/",
     "height": 52
    },
    "id": "-eek-i_fQfJW",
    "outputId": "ea0d644b-aa36-4b97-a352-f893fcc9c5e6"
   },
   "outputs": [],
   "source": [
    "app.run_server(debug=True)"
   ]
  },
  {
   "cell_type": "markdown",
   "metadata": {
    "id": "Ui_7gekgsxWe"
   },
   "source": [
    "Code explanation: Now we can run the above code to actually see and test the created dashboard. It is recommended to turn on the debug mode so that any errors can be looked into when needed."
   ]
  },
  {
   "cell_type": "code",
   "execution_count": null,
   "metadata": {},
   "outputs": [],
   "source": [
    "# or\n",
    "app.run_server(debug=True, mode=\"inline\")"
   ]
  }
 ],
 "metadata": {
  "colab": {
   "collapsed_sections": [
    "GxDO2jMduLiP",
    "t6rviedqZHoN"
   ],
   "provenance": [],
   "toc_visible": true
  },
  "kernelspec": {
   "display_name": "Python 3",
   "language": "python",
   "name": "python3"
  },
  "language_info": {
   "codemirror_mode": {
    "name": "ipython",
    "version": 3
   },
   "file_extension": ".py",
   "mimetype": "text/x-python",
   "name": "python",
   "nbconvert_exporter": "python",
   "pygments_lexer": "ipython3",
   "version": "3.8.5"
  }
 },
 "nbformat": 4,
 "nbformat_minor": 1
}
